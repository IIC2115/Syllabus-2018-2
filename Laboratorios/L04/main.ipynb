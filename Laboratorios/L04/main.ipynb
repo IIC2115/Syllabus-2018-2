{
  "nbformat": 4,
  "nbformat_minor": 0,
  "metadata": {
    "colab": {
      "name": "main.ipynb",
      "version": "0.3.2",
      "provenance": []
    },
    "kernelspec": {
      "name": "python3",
      "display_name": "Python 3"
    }
  },
  "cells": [
    {
      "metadata": {
        "id": "hZ6mWvyCvPF1",
        "colab_type": "code",
        "colab": {}
      },
      "cell_type": "code",
      "source": [
        "def get_info(app):\n",
        "    return None\n",
        "\n",
        "def best_by_genre(n, genre):\n",
        "    return None\n",
        "\n",
        "def count_by_version(date_1, date_2):\n",
        "    return None\n",
        "\n",
        "def price_of_the_best_by_genre(n, genre):\n",
        "    return None\n",
        "\n",
        "def recommend(genre, size):\n",
        "    return None\n",
        "\n",
        "def need_update_(app):\n",
        "    return None\n",
        "\n",
        "def app_with_more_income():\n",
        "    return None\n",
        "\n",
        "def add_app(app_data):\n",
        "    return None\n",
        "\n",
        "def add_comment(app_name, text, sentiment):\n",
        "    return None\n",
        "\n",
        "def download_app(app_name):\n",
        "    return None\n",
        "\n",
        "def delete_app(app_name):\n",
        "    return None"
      ],
      "execution_count": 0,
      "outputs": []
    },
    {
      "metadata": {
        "id": "CLkqa-8gvQ45",
        "colab_type": "code",
        "colab": {}
      },
      "cell_type": "code",
      "source": [
        "datos = get_info(\"Este nombre no existe\")\n",
        "print(datos[\"error\"])\n",
        "nombre = 'Superheroes Wallpapers | 4K Backgrounds'\n",
        "datos_super = get_info(nombre)\n",
        "print(\"{} -> {}\".format(nombre, datos_super['installs']))\n",
        "download_app(nombre)\n",
        "datos_super = get_info(nombre)\n",
        "print(\"{} -> {}\".format(nombre, datos_super['installs']))"
      ],
      "execution_count": 0,
      "outputs": []
    }
  ]
}